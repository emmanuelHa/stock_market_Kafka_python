{
 "cells": [
  {
   "cell_type": "code",
   "execution_count": 1,
   "id": "2742c0a2-3afd-448d-b3c0-da4afa40764c",
   "metadata": {},
   "outputs": [
    {
     "name": "stdout",
     "output_type": "stream",
     "text": [
      "Defaulting to user installation because normal site-packages is not writeable\n",
      "Requirement already satisfied: kafka-python in /home/emmanuel/.local/lib/python3.10/site-packages (2.0.2)\n",
      "Note: you may need to restart the kernel to use updated packages.\n"
     ]
    }
   ],
   "source": [
    "pip install kafka-python"
   ]
  },
  {
   "cell_type": "code",
   "execution_count": 2,
   "id": "a5f00fa7-3163-45c5-9fd6-2fedaa576c4e",
   "metadata": {},
   "outputs": [
    {
     "name": "stdout",
     "output_type": "stream",
     "text": [
      "Defaulting to user installation because normal site-packages is not writeable\n",
      "Requirement already satisfied: s3fs in /home/emmanuel/.local/lib/python3.10/site-packages (2024.6.1)\n",
      "Requirement already satisfied: aiobotocore<3.0.0,>=2.5.4 in /home/emmanuel/.local/lib/python3.10/site-packages (from s3fs) (2.13.2)\n",
      "Requirement already satisfied: fsspec==2024.6.1.* in /home/emmanuel/.local/lib/python3.10/site-packages (from s3fs) (2024.6.1)\n",
      "Requirement already satisfied: aiohttp!=4.0.0a0,!=4.0.0a1 in /home/emmanuel/.local/lib/python3.10/site-packages (from s3fs) (3.10.3)\n",
      "Requirement already satisfied: botocore<1.34.132,>=1.34.70 in /home/emmanuel/.local/lib/python3.10/site-packages (from aiobotocore<3.0.0,>=2.5.4->s3fs) (1.34.131)\n",
      "Requirement already satisfied: wrapt<2.0.0,>=1.10.10 in /home/emmanuel/.local/lib/python3.10/site-packages (from aiobotocore<3.0.0,>=2.5.4->s3fs) (1.16.0)\n",
      "Requirement already satisfied: aioitertools<1.0.0,>=0.5.1 in /home/emmanuel/.local/lib/python3.10/site-packages (from aiobotocore<3.0.0,>=2.5.4->s3fs) (0.11.0)\n",
      "Requirement already satisfied: aiohappyeyeballs>=2.3.0 in /home/emmanuel/.local/lib/python3.10/site-packages (from aiohttp!=4.0.0a0,!=4.0.0a1->s3fs) (2.3.5)\n",
      "Requirement already satisfied: aiosignal>=1.1.2 in /home/emmanuel/.local/lib/python3.10/site-packages (from aiohttp!=4.0.0a0,!=4.0.0a1->s3fs) (1.3.1)\n",
      "Requirement already satisfied: attrs>=17.3.0 in /usr/local/lib/python3.10/dist-packages (from aiohttp!=4.0.0a0,!=4.0.0a1->s3fs) (23.1.0)\n",
      "Requirement already satisfied: frozenlist>=1.1.1 in /home/emmanuel/.local/lib/python3.10/site-packages (from aiohttp!=4.0.0a0,!=4.0.0a1->s3fs) (1.4.1)\n",
      "Requirement already satisfied: multidict<7.0,>=4.5 in /home/emmanuel/.local/lib/python3.10/site-packages (from aiohttp!=4.0.0a0,!=4.0.0a1->s3fs) (6.0.5)\n",
      "Requirement already satisfied: yarl<2.0,>=1.0 in /home/emmanuel/.local/lib/python3.10/site-packages (from aiohttp!=4.0.0a0,!=4.0.0a1->s3fs) (1.9.4)\n",
      "Requirement already satisfied: async-timeout<5.0,>=4.0 in /home/emmanuel/.local/lib/python3.10/site-packages (from aiohttp!=4.0.0a0,!=4.0.0a1->s3fs) (4.0.3)\n",
      "Requirement already satisfied: jmespath<2.0.0,>=0.7.1 in /usr/lib/python3/dist-packages (from botocore<1.34.132,>=1.34.70->aiobotocore<3.0.0,>=2.5.4->s3fs) (0.10.0)\n",
      "Requirement already satisfied: python-dateutil<3.0.0,>=2.1 in /usr/local/lib/python3.10/dist-packages (from botocore<1.34.132,>=1.34.70->aiobotocore<3.0.0,>=2.5.4->s3fs) (2.8.2)\n",
      "Requirement already satisfied: urllib3!=2.2.0,<3,>=1.25.4 in /usr/lib/python3/dist-packages (from botocore<1.34.132,>=1.34.70->aiobotocore<3.0.0,>=2.5.4->s3fs) (1.26.5)\n",
      "Requirement already satisfied: idna>=2.0 in /usr/lib/python3/dist-packages (from yarl<2.0,>=1.0->aiohttp!=4.0.0a0,!=4.0.0a1->s3fs) (3.3)\n",
      "Requirement already satisfied: six>=1.5 in /usr/lib/python3/dist-packages (from python-dateutil<3.0.0,>=2.1->botocore<1.34.132,>=1.34.70->aiobotocore<3.0.0,>=2.5.4->s3fs) (1.16.0)\n",
      "Note: you may need to restart the kernel to use updated packages.\n"
     ]
    }
   ],
   "source": [
    "pip install s3fs"
   ]
  },
  {
   "cell_type": "code",
   "execution_count": 3,
   "id": "b6675043",
   "metadata": {},
   "outputs": [],
   "source": [
    "from kafka import KafkaConsumer\n",
    "from time import sleep\n",
    "from json import dumps,loads\n",
    "import json\n",
    "from s3fs import S3FileSystem"
   ]
  },
  {
   "cell_type": "code",
   "execution_count": 4,
   "id": "9eeff3ef",
   "metadata": {},
   "outputs": [],
   "source": [
    "consumer = KafkaConsumer(\n",
    "    'stock-market',\n",
    "     bootstrap_servers=['x.x.x.x:9092'], #add your IP here\n",
    "    value_deserializer=lambda x: loads(x.decode('utf-8')))"
   ]
  },
  {
   "cell_type": "code",
   "execution_count": 5,
   "id": "1b7e14b8-5206-4ac7-a638-c15c880491c3",
   "metadata": {},
   "outputs": [
    {
     "data": {
      "text/plain": [
       "{'demo_test', 'quickstart-events', 'stock-market'}"
      ]
     },
     "execution_count": 5,
     "metadata": {},
     "output_type": "execute_result"
    }
   ],
   "source": [
    "consumer.topics()"
   ]
  },
  {
   "cell_type": "code",
   "execution_count": 6,
   "id": "d1b062e2-2442-4831-a997-3b788c298a6a",
   "metadata": {},
   "outputs": [
    {
     "data": {
      "text/plain": [
       "{'stock-market'}"
      ]
     },
     "execution_count": 6,
     "metadata": {},
     "output_type": "execute_result"
    }
   ],
   "source": [
    "consumer.subscribe(topics=['stock-market'])\n",
    "consumer.subscription()"
   ]
  },
  {
   "cell_type": "code",
   "execution_count": 7,
   "id": "83c7baba-e1a0-478a-8a85-4029c1c260dc",
   "metadata": {},
   "outputs": [],
   "source": [
    "s3 = S3FileSystem()"
   ]
  },
  {
   "cell_type": "code",
   "execution_count": null,
   "id": "2075aeda-c815-4e54-9d3f-50d6f38a2507",
   "metadata": {},
   "outputs": [
    {
     "name": "stdout",
     "output_type": "stream",
     "text": [
      "0:130: k=None v={'Index': 'GSPTSE', 'Date': '1995-12-22', 'Open': 4699.399902, 'High': 4716.700195, 'Low': 4699.399902, 'Close': 4710.700195, 'Adj Close': 4710.700195, 'Volume': 64720000.0, 'CloseUSD': 3909.88116185}\n",
      "0:131: k=None v={'Index': 'SSMI', 'Date': '2009-06-12', 'Open': 5488.899902, 'High': 5532.509766, 'Low': 5483.609863, 'Close': 5521.839844, 'Adj Close': 5521.839844, 'Volume': 66607200.0, 'CloseUSD': 6129.2422268400005}\n",
      "0:132: k=None v={'Index': 'GDAXI', 'Date': '2003-07-21', 'Open': 3370.070068, 'High': 3390.610107, 'Low': 3281.060059, 'Close': 3287.0, 'Adj Close': 3287.0, 'Volume': 86690100.0, 'CloseUSD': 4010.14}\n",
      "0:133: k=None v={'Index': 'NYA', 'Date': '1972-05-05', 'Open': 627.02002, 'High': 627.02002, 'Low': 627.02002, 'Close': 627.02002, 'Adj Close': 627.02002, 'Volume': 0.0, 'CloseUSD': 627.02002}\n",
      "0:134: k=None v={'Index': 'N225', 'Date': '1994-04-07', 'Open': 19676.33984, 'High': 19946.08984, 'Low': 19587.7207, 'Close': 19890.98047, 'Adj Close': 19890.98047, 'Volume': 0.0, 'CloseUSD': 198.9098047}\n",
      "0:135: k=None v={'Index': 'NYA', 'Date': '1997-04-10', 'Open': 4222.72998, 'High': 4222.72998, 'Low': 4222.72998, 'Close': 4222.72998, 'Adj Close': 4222.72998, 'Volume': 0.0, 'CloseUSD': 4222.72998}\n",
      "0:136: k=None v={'Index': 'IXIC', 'Date': '2000-07-24', 'Open': 4109.649902, 'High': 4125.799805, 'Low': 3976.51001, 'Close': 3981.570068, 'Adj Close': 3981.570068, 'Volume': 1460690000.0, 'CloseUSD': 3981.570068}\n",
      "0:137: k=None v={'Index': 'SSMI', 'Date': '1991-10-17', 'Open': 1693.800049, 'High': 1703.5, 'Low': 1689.800049, 'Close': 1696.5, 'Adj Close': 1696.5, 'Volume': 0.0, 'CloseUSD': 1883.115}\n",
      "0:138: k=None v={'Index': 'GSPTSE', 'Date': '1996-05-01', 'Open': 5142.700195, 'High': 5162.399902, 'Low': 5142.700195, 'Close': 5151.100098, 'Adj Close': 5151.100098, 'Volume': 97850000.0, 'CloseUSD': 4275.41308134}\n",
      "0:139: k=None v={'Index': 'N225', 'Date': '1978-09-06', 'Open': 5637.240234, 'High': 5637.240234, 'Low': 5637.240234, 'Close': 5637.240234, 'Adj Close': 5637.240234, 'Volume': 0.0, 'CloseUSD': 56.37240234}\n",
      "0:140: k=None v={'Index': 'IXIC', 'Date': '2007-07-09', 'Open': 2668.98999, 'High': 2672.590088, 'Low': 2660.649902, 'Close': 2670.02002, 'Adj Close': 2670.02002, 'Volume': 1895200000.0, 'CloseUSD': 2670.02002}\n",
      "0:141: k=None v={'Index': 'N225', 'Date': '1978-11-21', 'Open': 5955.339844, 'High': 5955.339844, 'Low': 5955.339844, 'Close': 5955.339844, 'Adj Close': 5955.339844, 'Volume': 0.0, 'CloseUSD': 59.55339844}\n",
      "0:142: k=None v={'Index': 'GDAXI', 'Date': '1999-09-03', 'Open': 5202.540039, 'High': 5340.009766, 'Low': 5199.680176, 'Close': 5336.220215, 'Adj Close': 5336.220215, 'Volume': 0.0, 'CloseUSD': 6510.1886623}\n",
      "0:143: k=None v={'Index': 'HSI', 'Date': '1987-04-16', 'Open': 2721.100098, 'High': 2721.100098, 'Low': 2721.100098, 'Close': 2721.100098, 'Adj Close': 2721.100098, 'Volume': 0.0, 'CloseUSD': 353.74301274}\n",
      "0:144: k=None v={'Index': 'N100', 'Date': '2015-03-30', 'Open': 986.52002, 'High': 995.919983, 'Low': 985.159973, 'Close': 994.049988, 'Adj Close': 994.049988, 'Volume': 356213000.0, 'CloseUSD': 1212.74098536}\n",
      "0:145: k=None v={'Index': 'NYA', 'Date': '2010-07-30', 'Open': 6994.569824, 'High': 7024.27002, 'Low': 6910.759766, 'Close': 6998.990234, 'Adj Close': 6998.990234, 'Volume': 4006450000.0, 'CloseUSD': 6998.990234}\n",
      "0:146: k=None v={'Index': 'N225', 'Date': '2020-12-16', 'Open': 26835.58984, 'High': 26874.98047, 'Low': 26717.0293, 'Close': 26757.40039, 'Adj Close': 26757.40039, 'Volume': 61300000.0, 'CloseUSD': 267.5740039}\n",
      "0:147: k=None v={'Index': 'GSPTSE', 'Date': '2018-01-30', 'Open': 16030.2002, 'High': 16054.5, 'Low': 15947.09961, 'Close': 15955.5, 'Adj Close': 15955.5, 'Volume': 22704500000.0, 'CloseUSD': 13243.065}\n",
      "0:148: k=None v={'Index': 'HSI', 'Date': '1987-07-01', 'Open': 3164.0, 'High': 3164.0, 'Low': 3164.0, 'Close': 3164.0, 'Adj Close': 3164.0, 'Volume': 0.0, 'CloseUSD': 411.32}\n",
      "0:149: k=None v={'Index': 'NYA', 'Date': '1976-01-30', 'Open': 566.219971, 'High': 566.219971, 'Low': 566.219971, 'Close': 566.219971, 'Adj Close': 566.219971, 'Volume': 0.0, 'CloseUSD': 566.219971}\n",
      "0:150: k=None v={'Index': 'GSPTSE', 'Date': '2007-05-08', 'Open': 13856.90039, 'High': 13915.40039, 'Low': 13793.2002, 'Close': 13915.40039, 'Adj Close': 13915.40039, 'Volume': 24039120000.0, 'CloseUSD': 11549.7823237}\n",
      "0:151: k=None v={'Index': 'HSI', 'Date': '2017-07-18', 'Open': 26489.51953, 'High': 26540.16992, 'Low': 26381.14063, 'Close': 26524.93945, 'Adj Close': 26524.93945, 'Volume': 1872330800.0, 'CloseUSD': 3448.2421285000005}\n",
      "0:152: k=None v={'Index': 'SSMI', 'Date': '2003-10-28', 'Open': 5157.700195, 'High': 5207.799805, 'Low': 5157.700195, 'Close': 5185.200195, 'Adj Close': 5185.200195, 'Volume': 109153200.0, 'CloseUSD': 5755.572216450001}\n",
      "0:153: k=None v={'Index': '000001.SS', 'Date': '2008-11-12', 'Open': 1820.438965, 'High': 1863.895996, 'Low': 1815.07605, 'Close': 1859.109985, 'Adj Close': 1859.109985, 'Volume': 65800.0, 'CloseUSD': 297.45759760000004}\n",
      "0:154: k=None v={'Index': 'SSMI', 'Date': '2000-10-30', 'Open': 7927.0, 'High': 7956.5, 'Low': 7911.0, 'Close': 7948.799805, 'Adj Close': 7948.799805, 'Volume': 0.0, 'CloseUSD': 8823.16778355}\n",
      "0:155: k=None v={'Index': 'NYA', 'Date': '1982-02-11', 'Open': 699.030029, 'High': 699.030029, 'Low': 699.030029, 'Close': 699.030029, 'Adj Close': 699.030029, 'Volume': 0.0, 'CloseUSD': 699.030029}\n",
      "0:156: k=None v={'Index': 'NYA', 'Date': '1985-05-01', 'Open': 1092.800049, 'High': 1092.800049, 'Low': 1092.800049, 'Close': 1092.800049, 'Adj Close': 1092.800049, 'Volume': 0.0, 'CloseUSD': 1092.800049}\n",
      "0:157: k=None v={'Index': 'NSEI', 'Date': '2009-03-05', 'Open': 2645.899902, 'High': 2663.899902, 'Low': 2564.100098, 'Close': 2576.699951, 'Adj Close': 2576.699951, 'Volume': 0.0, 'CloseUSD': 25.76699951}\n",
      "0:158: k=None v={'Index': 'HSI', 'Date': '2009-04-09', 'Open': 14686.48047, 'High': 14987.41016, 'Low': 14656.16016, 'Close': 14901.41016, 'Adj Close': 14901.41016, 'Volume': 2609340200.0, 'CloseUSD': 1937.1833208}\n",
      "0:159: k=None v={'Index': 'IXIC', 'Date': '2016-07-29', 'Open': 5162.149902, 'High': 5175.810059, 'Low': 5140.049805, 'Close': 5162.129883, 'Adj Close': 5162.129883, 'Volume': 2072640000.0, 'CloseUSD': 5162.129883}\n",
      "0:160: k=None v={'Index': 'SSMI', 'Date': '2012-09-28', 'Open': 6570.290039, 'High': 6570.290039, 'Low': 6495.879883, 'Close': 6495.879883, 'Adj Close': 6495.879883, 'Volume': 45100400.0, 'CloseUSD': 7210.42667013}\n",
      "0:161: k=None v={'Index': 'IXIC', 'Date': '2012-06-29', 'Open': 2902.439941, 'High': 2935.129883, 'Low': 2895.600098, 'Close': 2935.050049, 'Adj Close': 2935.050049, 'Volume': 2021190000.0, 'CloseUSD': 2935.050049}\n",
      "0:162: k=None v={'Index': 'GDAXI', 'Date': '2010-12-10', 'Open': 6987.689941, 'High': 7018.109863, 'Low': 6973.319824, 'Close': 7006.169922, 'Adj Close': 7006.169922, 'Volume': 98519300.0, 'CloseUSD': 8547.52730484}\n",
      "0:163: k=None v={'Index': 'NYA', 'Date': '1999-07-12', 'Open': 6934.149902, 'High': 6934.149902, 'Low': 6934.149902, 'Close': 6934.149902, 'Adj Close': 6934.149902, 'Volume': 0.0, 'CloseUSD': 6934.149902}\n",
      "0:164: k=None v={'Index': 'GSPTSE', 'Date': '2009-05-04', 'Open': 9604.599609, 'High': 9870.400391, 'Low': 9497.0, 'Close': 9870.400391, 'Adj Close': 9870.400391, 'Volume': 24464560000.0, 'CloseUSD': 8192.432324529998}\n",
      "0:165: k=None v={'Index': 'GDAXI', 'Date': '1998-05-28', 'Open': 5532.299805, 'High': 5579.200195, 'Low': 5470.600098, 'Close': 5507.359863, 'Adj Close': 5507.359863, 'Volume': 0.0, 'CloseUSD': 6718.979032859999}\n",
      "0:166: k=None v={'Index': 'NSEI', 'Date': '2017-08-18', 'Open': 9865.950195, 'High': 9865.950195, 'Low': 9783.650391, 'Close': 9837.400391, 'Adj Close': 9837.400391, 'Volume': 246300.0, 'CloseUSD': 98.37400391}\n",
      "0:167: k=None v={'Index': 'GSPTSE', 'Date': '1989-01-25', 'Open': 3555.5, 'High': 3569.300049, 'Low': 3545.800049, 'Close': 3567.800049, 'Adj Close': 3558.739502, 'Volume': 26170000.0, 'CloseUSD': 2961.27404067}\n",
      "0:168: k=None v={'Index': 'N100', 'Date': '2010-08-27', 'Open': 628.359985, 'High': 636.190002, 'Low': 624.359985, 'Close': 635.849976, 'Adj Close': 635.849976, 'Volume': 270427600.0, 'CloseUSD': 775.7369707199999}\n",
      "0:169: k=None v={'Index': '399001.SZ', 'Date': '2014-03-14', 'Open': 7287.339844, 'High': 7317.450195, 'Low': 7205.180176, 'Close': 7239.060059, 'Adj Close': 7238.979004, 'Volume': 108600.0, 'CloseUSD': 1158.24960944}\n",
      "0:170: k=None v={'Index': 'GSPTSE', 'Date': '2020-01-13', 'Open': 17237.59961, 'High': 17301.80078, 'Low': 17198.90039, 'Close': 17293.40039, 'Adj Close': 17293.40039, 'Volume': 26808680000.0, 'CloseUSD': 14353.5223237}\n",
      "0:171: k=None v={'Index': 'N225', 'Date': '1970-05-27', 'Open': 1929.640015, 'High': 1929.640015, 'Low': 1929.640015, 'Close': 1929.640015, 'Adj Close': 1929.640015, 'Volume': 0.0, 'CloseUSD': 19.29640015}\n",
      "0:172: k=None v={'Index': 'GSPTSE', 'Date': '1995-08-28', 'Open': 4593.600098, 'High': 4593.600098, 'Low': 4571.600098, 'Close': 4576.799805, 'Adj Close': 4576.799805, 'Volume': 50690000.0, 'CloseUSD': 3798.74383815}\n",
      "0:173: k=None v={'Index': 'GDAXI', 'Date': '1995-04-18', 'Open': 1971.150024, 'High': 1971.150024, 'Low': 1953.790039, 'Close': 1954.619995, 'Adj Close': 1954.619995, 'Volume': 0.0, 'CloseUSD': 2384.6363939}\n",
      "0:174: k=None v={'Index': 'NYA', 'Date': '2009-10-27', 'Open': 6960.089844, 'High': 6999.72998, 'Low': 6919.870117, 'Close': 6932.040039, 'Adj Close': 6932.040039, 'Volume': 5337380000.0, 'CloseUSD': 6932.040039}\n",
      "0:175: k=None v={'Index': 'N225', 'Date': '1986-05-09', 'Open': 16194.98047, 'High': 16194.98047, 'Low': 16194.98047, 'Close': 16194.98047, 'Adj Close': 16194.98047, 'Volume': 0.0, 'CloseUSD': 161.94980470000002}\n",
      "0:176: k=None v={'Index': 'HSI', 'Date': '2004-05-27', 'Open': 11904.75, 'High': 11993.58008, 'Low': 11839.29004, 'Close': 11983.90039, 'Adj Close': 11983.90039, 'Volume': 377546200.0, 'CloseUSD': 1557.9070507}\n",
      "0:177: k=None v={'Index': 'HSI', 'Date': '2008-05-09', 'Open': 25401.91016, 'High': 25483.75977, 'Low': 24911.33008, 'Close': 25063.16992, 'Adj Close': 25063.16992, 'Volume': 2068025400.0, 'CloseUSD': 3258.2120896}\n",
      "0:178: k=None v={'Index': 'IXIC', 'Date': '1984-04-05', 'Open': 245.740005, 'High': 245.740005, 'Low': 245.740005, 'Close': 245.740005, 'Adj Close': 245.740005, 'Volume': 0.0, 'CloseUSD': 245.740005}\n",
      "0:179: k=None v={'Index': 'SSMI', 'Date': '1997-02-25', 'Open': 4463.200195, 'High': 4510.600098, 'Low': 4463.200195, 'Close': 4503.899902, 'Adj Close': 4503.899902, 'Volume': 0.0, 'CloseUSD': 4999.3288912200005}\n",
      "0:180: k=None v={'Index': 'GDAXI', 'Date': '1989-03-03', 'Open': 1324.890015, 'High': 1324.890015, 'Low': 1324.890015, 'Close': 1324.890015, 'Adj Close': 1324.890015, 'Volume': 0.0, 'CloseUSD': 1616.3658183}\n",
      "0:181: k=None v={'Index': '399001.SZ', 'Date': '2011-11-03', 'Open': 10618.45996, 'High': 10777.76953, 'Low': 10618.45996, 'Close': 10624.12012, 'Adj Close': 10624.00098, 'Volume': 114900.0, 'CloseUSD': 1699.8592192}\n",
      "0:182: k=None v={'Index': 'NYA', 'Date': '2001-01-18', 'Open': 6889.0, 'High': 6889.0, 'Low': 6889.0, 'Close': 6889.0, 'Adj Close': 6889.0, 'Volume': 1445000000.0, 'CloseUSD': 6889.0}\n",
      "0:183: k=None v={'Index': 'N225', 'Date': '1975-08-21', 'Open': 4159.790039, 'High': 4159.790039, 'Low': 4159.790039, 'Close': 4159.790039, 'Adj Close': 4159.790039, 'Volume': 0.0, 'CloseUSD': 41.59790039000001}\n",
      "0:184: k=None v={'Index': 'SSMI', 'Date': '1993-12-22', 'Open': 2919.199951, 'High': 2947.100098, 'Low': 2905.899902, 'Close': 2942.399902, 'Adj Close': 2942.399902, 'Volume': 0.0, 'CloseUSD': 3266.06389122}\n",
      "0:185: k=None v={'Index': 'N225', 'Date': '2009-05-25', 'Open': 9245.950195, 'High': 9402.759766, 'Low': 9245.950195, 'Close': 9347.0, 'Adj Close': 9347.0, 'Volume': 129200000.0, 'CloseUSD': 93.47}\n",
      "0:186: k=None v={'Index': 'HSI', 'Date': '2003-05-23', 'Open': 9217.209961, 'High': 9313.980469, 'Low': 9208.740234, 'Close': 9303.730469, 'Adj Close': 9303.730469, 'Volume': 305202400.0, 'CloseUSD': 1209.48496097}\n",
      "0:187: k=None v={'Index': 'N100', 'Date': '2005-02-25', 'Open': 691.780029, 'High': 696.429993, 'Low': 691.630005, 'Close': 696.429993, 'Adj Close': 696.429993, 'Volume': 0.0, 'CloseUSD': 849.6445914599999}\n"
     ]
    }
   ],
   "source": [
    "for count, message in enumerate(consumer):\n",
    "    print (\"%d:%d: k=%s v=%s\" % (message.partition,\n",
    "                                 message.offset,\n",
    "                                 message.key,\n",
    "                                 message.value))\n",
    "    with s3.open(\"s3://kafka-stock-market-harel/data_sm_kafka/stock_market_{}.json\".format(count), 'w') as file:\n",
    "        json.dump(message.value, file) "
   ]
  },
  {
   "cell_type": "code",
   "execution_count": null,
   "id": "eda5a608",
   "metadata": {},
   "outputs": [],
   "source": [
    "# for c in consumer:\n",
    "#     print(c.value)"
   ]
  },
  {
   "cell_type": "code",
   "execution_count": null,
   "id": "8d60dc6c",
   "metadata": {},
   "outputs": [],
   "source": [
    "# s3 = S3FileSystem()"
   ]
  },
  {
   "cell_type": "code",
   "execution_count": null,
   "id": "0f135e81",
   "metadata": {},
   "outputs": [],
   "source": [
    "#for count, i in enumerate(consumer):\n",
    "#    print(count)\n",
    "#    print(i)\n",
    "    #with s3.open(\"s3://kafka-stock-market-harel/stock_market_{i}.json\".format(count), 'w') as file:\n",
    "    #    json.dump(i.value, file)    "
   ]
  },
  {
   "cell_type": "code",
   "execution_count": null,
   "id": "7b811cb6",
   "metadata": {},
   "outputs": [],
   "source": []
  }
 ],
 "metadata": {
  "kernelspec": {
   "display_name": "Python 3 (ipykernel)",
   "language": "python",
   "name": "python3"
  },
  "language_info": {
   "codemirror_mode": {
    "name": "ipython",
    "version": 3
   },
   "file_extension": ".py",
   "mimetype": "text/x-python",
   "name": "python",
   "nbconvert_exporter": "python",
   "pygments_lexer": "ipython3",
   "version": "3.10.12"
  }
 },
 "nbformat": 4,
 "nbformat_minor": 5
}
